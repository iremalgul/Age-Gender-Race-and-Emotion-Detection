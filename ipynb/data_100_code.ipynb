{
 "cells": [
  {
   "cell_type": "code",
   "execution_count": 3,
   "id": "7ccca4a8",
   "metadata": {
    "scrolled": true
   },
   "outputs": [
    {
     "name": "stdout",
     "output_type": "stream",
     "text": [
      "UTKFaces: 79 files copied.\n",
      "FER-2013: 21 files copied.\n"
     ]
    }
   ],
   "source": [
    "import os\n",
    "import shutil\n",
    "import random\n",
    "\n",
    "# Define paths\n",
    "source_path_utk = \"C:\\\\age_gender\\\\UTKFace\"\n",
    "source_path_fer = 'C:\\\\emotion_detection\\\\train'\n",
    "target_path = \"C:\\\\small_dataset\"\n",
    "\n",
    "# Create target directories if they do not exist\n",
    "if not os.path.exists(target_path):\n",
    "    os.makedirs(target_path)\n",
    "\n",
    "def copy_random_files(source_dir, target_dir, num_files):\n",
    "    files = []\n",
    "    # Traverse through the subdirectories and collect all file paths\n",
    "    for root, dirs, filenames in os.walk(source_dir):\n",
    "        for filename in filenames:\n",
    "            files.append(os.path.join(root, filename))\n",
    "    \n",
    "    if num_files > len(files):\n",
    "        raise ValueError(f\"Requested {num_files} files, but only {len(files)} available in {source_dir}\")\n",
    "\n",
    "    random_files = random.sample(files, num_files)\n",
    "    \n",
    "    for file in random_files:\n",
    "        if os.path.isfile(file):\n",
    "            shutil.copy(file, target_dir)\n",
    "\n",
    "# Specify the number of files to copy\n",
    "num_files_utk = 79\n",
    "num_files_fer = 21\n",
    "\n",
    "# Ensure target subdirectories exist\n",
    "target_utk = os.path.join(target_path, 'utkfaces')\n",
    "target_fer = os.path.join(target_path, 'fer2013')\n",
    "\n",
    "if not os.path.exists(target_utk):\n",
    "    os.makedirs(target_utk)\n",
    "if not os.path.exists(target_fer):\n",
    "    os.makedirs(target_fer)\n",
    "\n",
    "try:\n",
    "    # Copy random files\n",
    "    copy_random_files(source_path_utk, target_utk, num_files_utk)\n",
    "    copy_random_files(source_path_fer, target_fer, num_files_fer)\n",
    "except ValueError as e:\n",
    "    print(e)\n",
    "\n",
    "# Verify the copying\n",
    "print(f\"UTKFaces: {len(os.listdir(target_utk))} files copied.\")\n",
    "print(f\"FER-2013: {len(os.listdir(target_fer))} files copied.\")\n"
   ]
  },
  {
   "cell_type": "code",
   "execution_count": null,
   "id": "44e71437",
   "metadata": {},
   "outputs": [],
   "source": []
  }
 ],
 "metadata": {
  "kernelspec": {
   "display_name": "Python 3 (ipykernel)",
   "language": "python",
   "name": "python3"
  },
  "language_info": {
   "codemirror_mode": {
    "name": "ipython",
    "version": 3
   },
   "file_extension": ".py",
   "mimetype": "text/x-python",
   "name": "python",
   "nbconvert_exporter": "python",
   "pygments_lexer": "ipython3",
   "version": "3.11.5"
  }
 },
 "nbformat": 4,
 "nbformat_minor": 5
}
